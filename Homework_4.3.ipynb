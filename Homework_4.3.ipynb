{
 "cells": [
  {
   "cell_type": "markdown",
   "metadata": {},
   "source": [
    "### Стандартные импорты и настройки"
   ]
  },
  {
   "cell_type": "code",
   "execution_count": 75,
   "metadata": {
    "collapsed": true
   },
   "outputs": [],
   "source": [
    "import requests\n",
    "\n",
    "import pandas as pd\n",
    "import numpy as np\n",
    "import matplotlib.pyplot as plt\n",
    "\n",
    "%matplotlib inline"
   ]
  },
  {
   "cell_type": "code",
   "execution_count": 76,
   "metadata": {
    "collapsed": true
   },
   "outputs": [],
   "source": [
    "from scipy.cluster.vq import whiten, kmeans2"
   ]
  },
  {
   "cell_type": "code",
   "execution_count": 77,
   "metadata": {
    "collapsed": false
   },
   "outputs": [],
   "source": [
    "def call_api(uri, result_key):\n",
    "    json = {}\n",
    "    try:\n",
    "        json = requests.get(uri, headers = { 'X-Auth-Token': 'c52b7825851b4357af3e06c1888152f0' }).json()\n",
    "        return json[result_key]\n",
    "    except:\n",
    "        print(json)\n",
    "        return None"
   ]
  },
  {
   "cell_type": "code",
   "execution_count": 78,
   "metadata": {
    "collapsed": false,
    "scrolled": false
   },
   "outputs": [],
   "source": [
    "teams = call_api('http://api.football-data.org/v1/soccerseasons/439/teams', 'teams')\n",
    "# teams"
   ]
  },
  {
   "cell_type": "code",
   "execution_count": 79,
   "metadata": {
    "collapsed": false
   },
   "outputs": [
    {
     "name": "stdout",
     "output_type": "stream",
     "text": [
      "Team \"FC Rio Ave\", 37 d_goals, 36 m_goals\n",
      "Team \"FC Porto\", 78 d_goals, 21 m_goals\n",
      "Team \"Moreirense FC\", 27 d_goals, 45 m_goals\n",
      "Team \"FC Paços de Ferreira\", 31 d_goals, 40 m_goals\n",
      "Team \"Sporting CP\", 67 d_goals, 38 m_goals\n",
      "Team \"Maritimo Funchal\", 32 d_goals, 30 m_goals\n",
      "Team \"CD Tondela\", 23 d_goals, 50 m_goals\n",
      "Team \"SL Benfica\", 75 d_goals, 30 m_goals\n",
      "Team \"Boavista Porto FC\", 28 d_goals, 32 m_goals\n",
      "Team \"FC Arouca\", 30 d_goals, 50 m_goals\n",
      "Team \"Vitoria Setubal\", 27 d_goals, 35 m_goals\n",
      "Team \"C.F. Os Belenenses\", 23 d_goals, 41 m_goals\n",
      "Team \"Vitoria Guimaraes\", 49 d_goals, 33 m_goals\n",
      "Team \"Sporting Braga\", 46 d_goals, 32 m_goals\n",
      "Team \"GD Estoril Praia\", 29 d_goals, 38 m_goals\n",
      "Team \"Feirense\", 27 d_goals, 44 m_goals\n",
      "Team \"Nacional Funchal\", 19 d_goals, 50 m_goals\n",
      "Team \"G.D. Chaves\", 31 d_goals, 34 m_goals\n"
     ]
    }
   ],
   "source": [
    "for team in teams:\n",
    "    players = call_api(team['_links']['players']['href'], 'players')\n",
    "    fixtures = call_api(team['_links']['fixtures']['href'], 'fixtures')\n",
    "    d_goals = 0  # количество забитых мячей противнику\n",
    "    m_goals = 0  # количество пропущенных мячей от противника\n",
    "\n",
    "    for f in fixtures:\n",
    "        if team['name'] == f['homeTeamName']:\n",
    "            if f['result']['goalsHomeTeam']:\n",
    "                d_goals += f['result']['goalsHomeTeam']\n",
    "            else:\n",
    "                d_goals += 0\n",
    "        else:\n",
    "            d_goals += f['result']['goalsAwayTeam'] if f['result']['goalsAwayTeam'] else 0\n",
    "        \n",
    "        \n",
    "        if team['name'] == f['homeTeamName']:\n",
    "            if f['result']['goalsAwayTeam']:\n",
    "                m_goals += f['result']['goalsAwayTeam']\n",
    "            else:\n",
    "                m_goals += 0\n",
    "        else:\n",
    "            m_goals += f['result']['goalsHomeTeam'] if f['result']['goalsHomeTeam'] else 0\n",
    "        \n",
    "        \n",
    "        \n",
    "    print('Team \"{}\", {} d_goals, {} m_goals'.format(team['name'], d_goals, m_goals))\n",
    "    team['players'] = players\n",
    "    team['d_goals'] = d_goals\n",
    "    team['m_goals'] = m_goals"
   ]
  },
  {
   "cell_type": "code",
   "execution_count": 81,
   "metadata": {
    "collapsed": false
   },
   "outputs": [
    {
     "data": {
      "text/plain": [
       "[{'d_goals': 37, 'm_goals': 36, 'name': 'FC Rio Ave'},\n",
       " {'d_goals': 78, 'm_goals': 21, 'name': 'FC Porto'},\n",
       " {'d_goals': 27, 'm_goals': 45, 'name': 'Moreirense FC'},\n",
       " {'d_goals': 31, 'm_goals': 40, 'name': 'FC Paços de Ferreira'},\n",
       " {'d_goals': 67, 'm_goals': 38, 'name': 'Sporting CP'},\n",
       " {'d_goals': 32, 'm_goals': 30, 'name': 'Maritimo Funchal'},\n",
       " {'d_goals': 23, 'm_goals': 50, 'name': 'CD Tondela'},\n",
       " {'d_goals': 75, 'm_goals': 30, 'name': 'SL Benfica'},\n",
       " {'d_goals': 28, 'm_goals': 32, 'name': 'Boavista Porto FC'},\n",
       " {'d_goals': 30, 'm_goals': 50, 'name': 'FC Arouca'},\n",
       " {'d_goals': 27, 'm_goals': 35, 'name': 'Vitoria Setubal'},\n",
       " {'d_goals': 23, 'm_goals': 41, 'name': 'C.F. Os Belenenses'},\n",
       " {'d_goals': 49, 'm_goals': 33, 'name': 'Vitoria Guimaraes'},\n",
       " {'d_goals': 46, 'm_goals': 32, 'name': 'Sporting Braga'},\n",
       " {'d_goals': 29, 'm_goals': 38, 'name': 'GD Estoril Praia'},\n",
       " {'d_goals': 19, 'm_goals': 50, 'name': 'Nacional Funchal'}]"
      ]
     },
     "execution_count": 81,
     "metadata": {},
     "output_type": "execute_result"
    }
   ],
   "source": [
    "team_for_pd = []\n",
    "for team in teams:\n",
    "    if team['players']:\n",
    "        team_for_pd.append({'name': team['name'], 'd_goals': team['d_goals'], 'm_goals': team['m_goals']})\n",
    "team_for_pd"
   ]
  },
  {
   "cell_type": "code",
   "execution_count": 82,
   "metadata": {
    "collapsed": false
   },
   "outputs": [
    {
     "data": {
      "text/html": [
       "<div>\n",
       "<table border=\"1\" class=\"dataframe\">\n",
       "  <thead>\n",
       "    <tr style=\"text-align: right;\">\n",
       "      <th></th>\n",
       "      <th>d_goals</th>\n",
       "      <th>m_goals</th>\n",
       "      <th>name</th>\n",
       "    </tr>\n",
       "  </thead>\n",
       "  <tbody>\n",
       "    <tr>\n",
       "      <th>0</th>\n",
       "      <td>37</td>\n",
       "      <td>36</td>\n",
       "      <td>FC Rio Ave</td>\n",
       "    </tr>\n",
       "    <tr>\n",
       "      <th>1</th>\n",
       "      <td>78</td>\n",
       "      <td>21</td>\n",
       "      <td>FC Porto</td>\n",
       "    </tr>\n",
       "    <tr>\n",
       "      <th>2</th>\n",
       "      <td>27</td>\n",
       "      <td>45</td>\n",
       "      <td>Moreirense FC</td>\n",
       "    </tr>\n",
       "    <tr>\n",
       "      <th>3</th>\n",
       "      <td>31</td>\n",
       "      <td>40</td>\n",
       "      <td>FC Paços de Ferreira</td>\n",
       "    </tr>\n",
       "    <tr>\n",
       "      <th>4</th>\n",
       "      <td>67</td>\n",
       "      <td>38</td>\n",
       "      <td>Sporting CP</td>\n",
       "    </tr>\n",
       "    <tr>\n",
       "      <th>5</th>\n",
       "      <td>32</td>\n",
       "      <td>30</td>\n",
       "      <td>Maritimo Funchal</td>\n",
       "    </tr>\n",
       "    <tr>\n",
       "      <th>6</th>\n",
       "      <td>23</td>\n",
       "      <td>50</td>\n",
       "      <td>CD Tondela</td>\n",
       "    </tr>\n",
       "    <tr>\n",
       "      <th>7</th>\n",
       "      <td>75</td>\n",
       "      <td>30</td>\n",
       "      <td>SL Benfica</td>\n",
       "    </tr>\n",
       "    <tr>\n",
       "      <th>8</th>\n",
       "      <td>28</td>\n",
       "      <td>32</td>\n",
       "      <td>Boavista Porto FC</td>\n",
       "    </tr>\n",
       "    <tr>\n",
       "      <th>9</th>\n",
       "      <td>30</td>\n",
       "      <td>50</td>\n",
       "      <td>FC Arouca</td>\n",
       "    </tr>\n",
       "    <tr>\n",
       "      <th>10</th>\n",
       "      <td>27</td>\n",
       "      <td>35</td>\n",
       "      <td>Vitoria Setubal</td>\n",
       "    </tr>\n",
       "    <tr>\n",
       "      <th>11</th>\n",
       "      <td>23</td>\n",
       "      <td>41</td>\n",
       "      <td>C.F. Os Belenenses</td>\n",
       "    </tr>\n",
       "    <tr>\n",
       "      <th>12</th>\n",
       "      <td>49</td>\n",
       "      <td>33</td>\n",
       "      <td>Vitoria Guimaraes</td>\n",
       "    </tr>\n",
       "    <tr>\n",
       "      <th>13</th>\n",
       "      <td>46</td>\n",
       "      <td>32</td>\n",
       "      <td>Sporting Braga</td>\n",
       "    </tr>\n",
       "    <tr>\n",
       "      <th>14</th>\n",
       "      <td>29</td>\n",
       "      <td>38</td>\n",
       "      <td>GD Estoril Praia</td>\n",
       "    </tr>\n",
       "    <tr>\n",
       "      <th>15</th>\n",
       "      <td>19</td>\n",
       "      <td>50</td>\n",
       "      <td>Nacional Funchal</td>\n",
       "    </tr>\n",
       "  </tbody>\n",
       "</table>\n",
       "</div>"
      ],
      "text/plain": [
       "    d_goals  m_goals                  name\n",
       "0        37       36            FC Rio Ave\n",
       "1        78       21              FC Porto\n",
       "2        27       45         Moreirense FC\n",
       "3        31       40  FC Paços de Ferreira\n",
       "4        67       38           Sporting CP\n",
       "5        32       30      Maritimo Funchal\n",
       "6        23       50            CD Tondela\n",
       "7        75       30            SL Benfica\n",
       "8        28       32     Boavista Porto FC\n",
       "9        30       50             FC Arouca\n",
       "10       27       35       Vitoria Setubal\n",
       "11       23       41    C.F. Os Belenenses\n",
       "12       49       33     Vitoria Guimaraes\n",
       "13       46       32        Sporting Braga\n",
       "14       29       38      GD Estoril Praia\n",
       "15       19       50      Nacional Funchal"
      ]
     },
     "execution_count": 82,
     "metadata": {},
     "output_type": "execute_result"
    }
   ],
   "source": [
    "teams_pd = pd.DataFrame(team_for_pd)\n",
    "teams_pd"
   ]
  },
  {
   "cell_type": "code",
   "execution_count": 83,
   "metadata": {
    "collapsed": false,
    "scrolled": true
   },
   "outputs": [
    {
     "data": {
      "text/plain": [
       "<matplotlib.axes._subplots.AxesSubplot at 0xbfdfc88>"
      ]
     },
     "execution_count": 83,
     "metadata": {},
     "output_type": "execute_result"
    },
    {
     "data": {
      "image/png": "[encoded data removed]",
      "text/plain": [
       "<matplotlib.figure.Figure at 0xbf5d1d0>"
      ]
     },
     "metadata": {},
     "output_type": "display_data"
    }
   ],
   "source": [
    "teams_pd.plot.scatter(x='d_goals', y='m_goals', s=100)"
   ]
  },
  {
   "cell_type": "code",
   "execution_count": 84,
   "metadata": {
    "collapsed": false
   },
   "outputs": [
    {
     "data": {
      "text/html": [
       "<div>\n",
       "<table border=\"1\" class=\"dataframe\">\n",
       "  <thead>\n",
       "    <tr style=\"text-align: right;\">\n",
       "      <th></th>\n",
       "      <th>d_goals</th>\n",
       "      <th>m_goals</th>\n",
       "    </tr>\n",
       "  </thead>\n",
       "  <tbody>\n",
       "    <tr>\n",
       "      <th>0</th>\n",
       "      <td>37</td>\n",
       "      <td>36</td>\n",
       "    </tr>\n",
       "    <tr>\n",
       "      <th>1</th>\n",
       "      <td>78</td>\n",
       "      <td>21</td>\n",
       "    </tr>\n",
       "    <tr>\n",
       "      <th>2</th>\n",
       "      <td>27</td>\n",
       "      <td>45</td>\n",
       "    </tr>\n",
       "    <tr>\n",
       "      <th>3</th>\n",
       "      <td>31</td>\n",
       "      <td>40</td>\n",
       "    </tr>\n",
       "    <tr>\n",
       "      <th>4</th>\n",
       "      <td>67</td>\n",
       "      <td>38</td>\n",
       "    </tr>\n",
       "    <tr>\n",
       "      <th>5</th>\n",
       "      <td>32</td>\n",
       "      <td>30</td>\n",
       "    </tr>\n",
       "    <tr>\n",
       "      <th>6</th>\n",
       "      <td>23</td>\n",
       "      <td>50</td>\n",
       "    </tr>\n",
       "    <tr>\n",
       "      <th>7</th>\n",
       "      <td>75</td>\n",
       "      <td>30</td>\n",
       "    </tr>\n",
       "    <tr>\n",
       "      <th>8</th>\n",
       "      <td>28</td>\n",
       "      <td>32</td>\n",
       "    </tr>\n",
       "    <tr>\n",
       "      <th>9</th>\n",
       "      <td>30</td>\n",
       "      <td>50</td>\n",
       "    </tr>\n",
       "    <tr>\n",
       "      <th>10</th>\n",
       "      <td>27</td>\n",
       "      <td>35</td>\n",
       "    </tr>\n",
       "    <tr>\n",
       "      <th>11</th>\n",
       "      <td>23</td>\n",
       "      <td>41</td>\n",
       "    </tr>\n",
       "    <tr>\n",
       "      <th>12</th>\n",
       "      <td>49</td>\n",
       "      <td>33</td>\n",
       "    </tr>\n",
       "    <tr>\n",
       "      <th>13</th>\n",
       "      <td>46</td>\n",
       "      <td>32</td>\n",
       "    </tr>\n",
       "    <tr>\n",
       "      <th>14</th>\n",
       "      <td>29</td>\n",
       "      <td>38</td>\n",
       "    </tr>\n",
       "    <tr>\n",
       "      <th>15</th>\n",
       "      <td>19</td>\n",
       "      <td>50</td>\n",
       "    </tr>\n",
       "  </tbody>\n",
       "</table>\n",
       "</div>"
      ],
      "text/plain": [
       "    d_goals  m_goals\n",
       "0        37       36\n",
       "1        78       21\n",
       "2        27       45\n",
       "3        31       40\n",
       "4        67       38\n",
       "5        32       30\n",
       "6        23       50\n",
       "7        75       30\n",
       "8        28       32\n",
       "9        30       50\n",
       "10       27       35\n",
       "11       23       41\n",
       "12       49       33\n",
       "13       46       32\n",
       "14       29       38\n",
       "15       19       50"
      ]
     },
     "execution_count": 84,
     "metadata": {},
     "output_type": "execute_result"
    }
   ],
   "source": [
    "del teams_pd['name']\n",
    "teams_pd"
   ]
  },
  {
   "cell_type": "code",
   "execution_count": 85,
   "metadata": {
    "collapsed": false
   },
   "outputs": [
    {
     "data": {
      "text/plain": [
       "array([[ 2.01993672,  4.51338037],\n",
       "       [ 4.25824498,  2.63280521],\n",
       "       [ 1.47400788,  5.64172546],\n",
       "       [ 1.69237942,  5.01486707],\n",
       "       [ 3.65772325,  4.76412372],\n",
       "       [ 1.7469723 ,  3.7611503 ],\n",
       "       [ 1.25563634,  6.26858384],\n",
       "       [ 4.09446633,  3.7611503 ],\n",
       "       [ 1.52860076,  4.01189366],\n",
       "       [ 1.63778653,  6.26858384],\n",
       "       [ 1.47400788,  4.38800869],\n",
       "       [ 1.25563634,  5.14023875],\n",
       "       [ 2.67505134,  4.13726533],\n",
       "       [ 2.51127268,  4.01189366],\n",
       "       [ 1.58319365,  4.76412372],\n",
       "       [ 1.0372648 ,  6.26858384]])"
      ]
     },
     "execution_count": 85,
     "metadata": {},
     "output_type": "execute_result"
    }
   ],
   "source": [
    "whitened = whiten(teams_pd.as_matrix())\n",
    "whitened"
   ]
  },
  {
   "cell_type": "markdown",
   "metadata": {},
   "source": [
    "Сделаем 3 кластера"
   ]
  },
  {
   "cell_type": "code",
   "execution_count": 86,
   "metadata": {
    "collapsed": false
   },
   "outputs": [
    {
     "data": {
      "text/plain": [
       "(array([[ 1.35117389,  6.11186924],\n",
       "        [ 1.61438958,  4.51338037],\n",
       "        [ 3.43935172,  3.86144765]]),\n",
       " array([1, 2, 0, 1, 2, 1, 0, 2, 1, 0, 1, 1, 2, 2, 1, 0]))"
      ]
     },
     "execution_count": 86,
     "metadata": {},
     "output_type": "execute_result"
    }
   ],
   "source": [
    "centroids, cluster_map = kmeans2(whitened, 3)\n",
    "centroids, cluster_map"
   ]
  },
  {
   "cell_type": "markdown",
   "metadata": {},
   "source": [
    "Зададим цвета для каждого кластера"
   ]
  },
  {
   "cell_type": "code",
   "execution_count": 87,
   "metadata": {
    "collapsed": false
   },
   "outputs": [
    {
     "data": {
      "text/plain": [
       "['g',\n",
       " 'b',\n",
       " 'r',\n",
       " 'g',\n",
       " 'b',\n",
       " 'g',\n",
       " 'r',\n",
       " 'b',\n",
       " 'g',\n",
       " 'r',\n",
       " 'g',\n",
       " 'g',\n",
       " 'b',\n",
       " 'b',\n",
       " 'g',\n",
       " 'r']"
      ]
     },
     "execution_count": 87,
     "metadata": {},
     "output_type": "execute_result"
    }
   ],
   "source": [
    "colors_map = {0: 'r', 1: 'g', 2: 'b', 3: 'y', 4: 'm'}\n",
    "colors = [colors_map[c] for c in cluster_map]\n",
    "colors"
   ]
  },
  {
   "cell_type": "code",
   "execution_count": 88,
   "metadata": {
    "collapsed": false
   },
   "outputs": [
    {
     "data": {
      "text/plain": [
       "<matplotlib.axes._subplots.AxesSubplot at 0xc00f6d8>"
      ]
     },
     "execution_count": 88,
     "metadata": {},
     "output_type": "execute_result"
    },
    {
     "data": {
      "image/png": "[encoded data removed]",
      "text/plain": [
       "<matplotlib.figure.Figure at 0xbb69518>"
      ]
     },
     "metadata": {},
     "output_type": "display_data"
    }
   ],
   "source": [
    "teams_pd.plot.scatter(x='d_goals', y='m_goals', c=colors, s=100)"
   ]
  },
  {
   "cell_type": "markdown",
   "metadata": {},
   "source": [
    "Теперь попробуем сделать 5 кластеров."
   ]
  },
  {
   "cell_type": "code",
   "execution_count": 89,
   "metadata": {
    "collapsed": false
   },
   "outputs": [
    {
     "data": {
      "text/plain": [
       "(array([[ 1.35117389,  6.11186924],\n",
       "        [ 2.31109877,  3.9701031 ],\n",
       "        [ 3.87609479,  4.26263701],\n",
       "        [ 4.25824498,  2.63280521],\n",
       "        [ 1.59229246,  4.63875204]]),\n",
       " array([4, 3, 0, 4, 2, 1, 0, 2, 4, 0, 4, 4, 1, 1, 4, 0]))"
      ]
     },
     "execution_count": 89,
     "metadata": {},
     "output_type": "execute_result"
    }
   ],
   "source": [
    "centroids, cluster_map = kmeans2(whitened, 5)\n",
    "centroids, cluster_map"
   ]
  },
  {
   "cell_type": "code",
   "execution_count": 90,
   "metadata": {
    "collapsed": false
   },
   "outputs": [
    {
     "data": {
      "text/plain": [
       "['m',\n",
       " 'y',\n",
       " 'r',\n",
       " 'm',\n",
       " 'b',\n",
       " 'g',\n",
       " 'r',\n",
       " 'b',\n",
       " 'm',\n",
       " 'r',\n",
       " 'm',\n",
       " 'm',\n",
       " 'g',\n",
       " 'g',\n",
       " 'm',\n",
       " 'r']"
      ]
     },
     "execution_count": 90,
     "metadata": {},
     "output_type": "execute_result"
    }
   ],
   "source": [
    "colors_map = {0: 'r', 1: 'g', 2: 'b', 3: 'y', 4: 'm'}\n",
    "colors = [colors_map[c] for c in cluster_map]\n",
    "colors"
   ]
  },
  {
   "cell_type": "code",
   "execution_count": 92,
   "metadata": {
    "collapsed": false
   },
   "outputs": [
    {
     "data": {
      "text/plain": [
       "<matplotlib.axes._subplots.AxesSubplot at 0xbc97898>"
      ]
     },
     "execution_count": 92,
     "metadata": {},
     "output_type": "execute_result"
    },
    {
     "data": {
      "image/png": "[encoded data removed]",
      "text/plain": [
       "<matplotlib.figure.Figure at 0xbea5668>"
      ]
     },
     "metadata": {},
     "output_type": "display_data"
    }
   ],
   "source": [
    "teams_pd.plot.scatter(x='d_goals', y='m_goals', c=colors, s=100)"
   ]
  },
  {
   "cell_type": "code",
   "execution_count": null,
   "metadata": {
    "collapsed": true
   },
   "outputs": [],
   "source": []
  },
  {
   "cell_type": "code",
   "execution_count": null,
   "metadata": {
    "collapsed": true
   },
   "outputs": [],
   "source": []
  }
 ],
 "metadata": {
  "anaconda-cloud": {},
  "kernelspec": {
   "display_name": "Python 3",
   "language": "python",
   "name": "python3"
  },
  "language_info": {
   "codemirror_mode": {
    "name": "ipython",
    "version": 3
   },
   "file_extension": ".py",
   "mimetype": "text/x-python",
   "name": "python",
   "nbconvert_exporter": "python",
   "pygments_lexer": "ipython3",
   "version": "3.6.0"
  }
 },
 "nbformat": 4,
 "nbformat_minor": 1
}
